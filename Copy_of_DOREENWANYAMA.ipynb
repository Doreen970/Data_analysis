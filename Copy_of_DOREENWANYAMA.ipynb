{
  "nbformat": 4,
  "nbformat_minor": 0,
  "metadata": {
    "colab": {
      "provenance": [],
      "history_visible": true,
      "authorship_tag": "ABX9TyPZLA1+y+anU6aG1WC8NXbn",
      "include_colab_link": true
    },
    "kernelspec": {
      "name": "python3",
      "display_name": "Python 3"
    },
    "language_info": {
      "name": "python"
    }
  },
  "cells": [
    {
      "cell_type": "markdown",
      "metadata": {
        "id": "view-in-github",
        "colab_type": "text"
      },
      "source": [
        "<a href=\"https://colab.research.google.com/github/Doreen970/Data_analysis/blob/main/Copy_of_DOREENWANYAMA.ipynb\" target=\"_parent\"><img src=\"https://colab.research.google.com/assets/colab-badge.svg\" alt=\"Open In Colab\"/></a>"
      ]
    },
    {
      "cell_type": "code",
      "execution_count": 7,
      "metadata": {
        "id": "gADQ27J-yIc2"
      },
      "outputs": [],
      "source": [
        "\n",
        "import pandas as pd\n",
        "import io\n",
        "import requests\n"
      ]
    },
    {
      "cell_type": "code",
      "source": [
        "urlm = \"https://open.africa/dataset/3e95b5cb-39f5-44d3-94b6-f2d5285b0478/resource/0257f153-7228-49ef-b330-8e8ed3c7c7e8/download/ehealth-kenya-facilities-download-21102015.xls\"\n",
        "\n",
        "# Read the Excel file from the URL into a DataFrame\n",
        "response = requests.get(urlm)\n",
        "excel_data = io.BytesIO(response.content)\n",
        "df = pd.read_excel(excel_data)\n",
        "df_Nai = df[df[\"County\"] == \"Nairobi\"]\n",
        "\n",
        "selected_val = df_Nai[[\"Type\", \"Owner\", \"Beds\", \"Constituency\", \"Operational Status\"]]"
      ],
      "metadata": {
        "colab": {
          "base_uri": "https://localhost:8080/"
        },
        "id": "ZCkXtmRqzN1L",
        "outputId": "2619ec90-81e0-45bf-ccd0-a2e2a58d0d6b"
      },
      "execution_count": null,
      "outputs": [
        {
          "output_type": "stream",
          "name": "stdout",
          "text": [
            "WARNING *** OLE2 inconsistency: SSCS size is 0 but SSAT size is non-zero\n"
          ]
        }
      ]
    },
    {
      "cell_type": "code",
      "source": [
        "# Display the DataFrame\n",
        "print(selected_val.head())"
      ],
      "metadata": {
        "colab": {
          "base_uri": "https://localhost:8080/"
        },
        "id": "4hPUzEMv0Zdk",
        "outputId": "a9f9e2e4-2e2e-44b6-d7ea-886cc83c7d54"
      },
      "execution_count": null,
      "outputs": [
        {
          "output_type": "stream",
          "name": "stdout",
          "text": [
            "              Type                                    Owner  Beds  \\\n",
            "1   Medical Clinic           Private Practice - Unspecified   0.0   \n",
            "7    Health Centre                             Armed Forces  14.0   \n",
            "10  Medical Clinic  Private Practice - General Practitioner   0.0   \n",
            "11  Medical Clinic         Private Enterprise (Institution)   0.0   \n",
            "12  Medical Clinic         Private Enterprise (Institution)   0.0   \n",
            "\n",
            "   Constituency Operational Status  \n",
            "1       MATHARE        Operational  \n",
            "7      LANG'ATA        Operational  \n",
            "10        KIBRA        Operational  \n",
            "11      STAREHE        Operational  \n",
            "12    WESTLANDS        Operational  \n"
          ]
        }
      ]
    },
    {
      "cell_type": "code",
      "source": [
        "#file for Nairobi population\n",
        "pop = \"/content/nairobi.xls\"\n",
        "\n",
        "# Read the Excel file into a DataFrame\n",
        "dfpop = pd.read_excel(pop)\n",
        "#get only constituency and female\n",
        "dfpop2 = dfpop[[\"Constituency\", \"Female\", \"Total\"]]\n",
        "\n",
        "#change data in Constituency column to be in uppercase\n",
        "dfpop2['Constituency'] = dfpop2['Constituency'].str.upper()\n",
        "print(dfpop2.head())\n",
        "\n",
        "# Display the DataFrame\n"
      ],
      "metadata": {
        "colab": {
          "base_uri": "https://localhost:8080/"
        },
        "id": "DNdRfk3a4eoK",
        "outputId": "07208dfe-5ca6-458e-9b6e-5dbebbd44da6"
      },
      "execution_count": 8,
      "outputs": [
        {
          "output_type": "stream",
          "name": "stdout",
          "text": [
            "      Constituency  Female   Total\n",
            "0  DAGORETTI        216526  434208\n",
            "1   EMBAKASI        496270  988808\n",
            "2   KAMUKUNJI       131599  268276\n",
            "3   KASARANI        399385  780656\n",
            "4    KIBRA           91569  185777\n"
          ]
        },
        {
          "output_type": "stream",
          "name": "stderr",
          "text": [
            "<ipython-input-8-fab629cd73ea>:10: SettingWithCopyWarning: \n",
            "A value is trying to be set on a copy of a slice from a DataFrame.\n",
            "Try using .loc[row_indexer,col_indexer] = value instead\n",
            "\n",
            "See the caveats in the documentation: https://pandas.pydata.org/pandas-docs/stable/user_guide/indexing.html#returning-a-view-versus-a-copy\n",
            "  dfpop2['Constituency'] = dfpop2['Constituency'].str.upper()\n"
          ]
        }
      ]
    },
    {
      "cell_type": "code",
      "source": [
        "merged_df = pd.merge(dfpop2, selected_val, on='Constituency')"
      ],
      "metadata": {
        "id": "XPFrzgRF9P22"
      },
      "execution_count": 9,
      "outputs": []
    },
    {
      "cell_type": "code",
      "source": [
        "print(dfpop2['Constituency'].unique())"
      ],
      "metadata": {
        "colab": {
          "base_uri": "https://localhost:8080/"
        },
        "id": "vMc2zh8mEJAZ",
        "outputId": "25748eac-af18-4e94-c3ae-d2b747713a48"
      },
      "execution_count": 10,
      "outputs": [
        {
          "output_type": "stream",
          "name": "stdout",
          "text": [
            "['DAGORETTI      ' 'EMBAKASI      ' 'KAMUKUNJI     ' 'KASARANI      '\n",
            " 'KIBRA        ' \"LANG'ATA      \" 'MAKADARA      ' 'MATHARE       '\n",
            " 'NJIRU        ' 'STAREHE       ' 'WESTLANDS      ']\n"
          ]
        }
      ]
    },
    {
      "cell_type": "code",
      "source": [
        "print(selected_val['Constituency'].unique())"
      ],
      "metadata": {
        "colab": {
          "base_uri": "https://localhost:8080/"
        },
        "id": "Fn3iZh7EE53k",
        "outputId": "f43fc52d-727f-4022-8d42-7c3446a4ea47"
      },
      "execution_count": 11,
      "outputs": [
        {
          "output_type": "stream",
          "name": "stdout",
          "text": [
            "['MATHARE' \"LANG'ATA\" 'KIBRA' 'STAREHE' 'WESTLANDS' 'DAGORETTI NORTH'\n",
            " 'EMBAKASI EAST' 'RUARAKA' 'ROYSAMBU' 'KAMUKUNJI' 'MAKADARA' 'KASARANI'\n",
            " 'EMBAKASI WEST' 'EMBAKASI CENTRAL' 'EMBAKASI SOUTH' 'EMBAKASI NORTH'\n",
            " 'DAGORETTI SOUTH']\n"
          ]
        }
      ]
    },
    {
      "cell_type": "code",
      "source": [
        "dfpop2['Constituency'] = dfpop2['Constituency'].replace('Njiru', 'Kasarani')"
      ],
      "metadata": {
        "colab": {
          "base_uri": "https://localhost:8080/"
        },
        "id": "HGisXUb9GUuI",
        "outputId": "9f0b38cc-77d7-47b5-b80a-a3b55c16f8a2"
      },
      "execution_count": 12,
      "outputs": [
        {
          "output_type": "stream",
          "name": "stderr",
          "text": [
            "<ipython-input-12-bb46a0d998af>:1: SettingWithCopyWarning: \n",
            "A value is trying to be set on a copy of a slice from a DataFrame.\n",
            "Try using .loc[row_indexer,col_indexer] = value instead\n",
            "\n",
            "See the caveats in the documentation: https://pandas.pydata.org/pandas-docs/stable/user_guide/indexing.html#returning-a-view-versus-a-copy\n",
            "  dfpop2['Constituency'] = dfpop2['Constituency'].replace('Njiru', 'Kasarani')\n"
          ]
        }
      ]
    },
    {
      "cell_type": "code",
      "source": [
        "replacement_mapping = {\n",
        "    'RUARAKA': 'KASARANI',\n",
        "    'EMBAKASI CENTRAL': 'EMBAKASI',\n",
        "    'EMBAKASI EAST': 'EMBAKASI',\n",
        "    'EMBAKASI WEST': 'EMBAKASI',\n",
        "    'EMBAKASI SOUTH': 'EMBAKASI',\n",
        "    'EMBAKASI NORTH': 'EMBAKASI',\n",
        "    'DAGORETTI SOUTH': 'DAGORETTI',\n",
        "    'DAGORETTI NORTH': 'DAGORETTI',\n",
        "    'ROYSAMBU': 'KASARANI',\n",
        "    'MATHARE': 'KASARANI'\n",
        "\n",
        "}\n",
        "selected_val['Constituency'] = selected_val['Constituency'].replace(replacement_mapping)\n",
        "print(selected_val.head())"
      ],
      "metadata": {
        "colab": {
          "base_uri": "https://localhost:8080/"
        },
        "id": "_pCkumB9GcOj",
        "outputId": "aea78ed9-996b-4ef7-dc7a-ad8d512bc632"
      },
      "execution_count": 14,
      "outputs": [
        {
          "output_type": "stream",
          "name": "stdout",
          "text": [
            "              Type                                    Owner  Beds  \\\n",
            "1   Medical Clinic           Private Practice - Unspecified   0.0   \n",
            "7    Health Centre                             Armed Forces  14.0   \n",
            "10  Medical Clinic  Private Practice - General Practitioner   0.0   \n",
            "11  Medical Clinic         Private Enterprise (Institution)   0.0   \n",
            "12  Medical Clinic         Private Enterprise (Institution)   0.0   \n",
            "\n",
            "   Constituency Operational Status  \n",
            "1      KASARANI        Operational  \n",
            "7      LANG'ATA        Operational  \n",
            "10        KIBRA        Operational  \n",
            "11      STAREHE        Operational  \n",
            "12    WESTLANDS        Operational  \n"
          ]
        },
        {
          "output_type": "stream",
          "name": "stderr",
          "text": [
            "<ipython-input-14-ee5c53f555ed>:14: SettingWithCopyWarning: \n",
            "A value is trying to be set on a copy of a slice from a DataFrame.\n",
            "Try using .loc[row_indexer,col_indexer] = value instead\n",
            "\n",
            "See the caveats in the documentation: https://pandas.pydata.org/pandas-docs/stable/user_guide/indexing.html#returning-a-view-versus-a-copy\n",
            "  selected_val['Constituency'] = selected_val['Constituency'].replace(replacement_mapping)\n"
          ]
        }
      ]
    },
    {
      "cell_type": "code",
      "source": [
        "merged_df = pd.merge(dfpop2, selected_val, on='Constituency')"
      ],
      "metadata": {
        "id": "WBH6V5GSKBYm"
      },
      "execution_count": 15,
      "outputs": []
    },
    {
      "cell_type": "code",
      "source": [
        "print(dfpop2.head())"
      ],
      "metadata": {
        "colab": {
          "base_uri": "https://localhost:8080/"
        },
        "id": "YoX1MiuVKEqq",
        "outputId": "4dd69837-e417-4716-c9c3-0da36c22c4f6"
      },
      "execution_count": 16,
      "outputs": [
        {
          "output_type": "stream",
          "name": "stdout",
          "text": [
            "      Constituency  Female   Total\n",
            "0  DAGORETTI        216526  434208\n",
            "1   EMBAKASI        496270  988808\n",
            "2   KAMUKUNJI       131599  268276\n",
            "3   KASARANI        399385  780656\n",
            "4    KIBRA           91569  185777\n"
          ]
        }
      ]
    },
    {
      "cell_type": "code",
      "source": [
        "dfpop2['Constituency'] = dfpop2['Constituency'].replace('NJIRU', 'KASARANI')"
      ],
      "metadata": {
        "colab": {
          "base_uri": "https://localhost:8080/"
        },
        "id": "RiTt8Bj2KxFt",
        "outputId": "3bbe6111-fd38-460f-b0fb-159ca70e23bb"
      },
      "execution_count": 17,
      "outputs": [
        {
          "output_type": "stream",
          "name": "stderr",
          "text": [
            "<ipython-input-17-1cf005adf68a>:1: SettingWithCopyWarning: \n",
            "A value is trying to be set on a copy of a slice from a DataFrame.\n",
            "Try using .loc[row_indexer,col_indexer] = value instead\n",
            "\n",
            "See the caveats in the documentation: https://pandas.pydata.org/pandas-docs/stable/user_guide/indexing.html#returning-a-view-versus-a-copy\n",
            "  dfpop2['Constituency'] = dfpop2['Constituency'].replace('NJIRU', 'KASARANI')\n"
          ]
        }
      ]
    },
    {
      "cell_type": "code",
      "source": [
        "dfpop2['Constituency'] = dfpop2['Constituency'].replace('MATHARE', 'KASARANI')"
      ],
      "metadata": {
        "colab": {
          "base_uri": "https://localhost:8080/"
        },
        "id": "YwqfEZj_K2ko",
        "outputId": "2f09f93a-67ee-40c3-e1e8-41e9f7e643cc"
      },
      "execution_count": 18,
      "outputs": [
        {
          "output_type": "stream",
          "name": "stderr",
          "text": [
            "<ipython-input-18-196e2c8dbd2f>:1: SettingWithCopyWarning: \n",
            "A value is trying to be set on a copy of a slice from a DataFrame.\n",
            "Try using .loc[row_indexer,col_indexer] = value instead\n",
            "\n",
            "See the caveats in the documentation: https://pandas.pydata.org/pandas-docs/stable/user_guide/indexing.html#returning-a-view-versus-a-copy\n",
            "  dfpop2['Constituency'] = dfpop2['Constituency'].replace('MATHARE', 'KASARANI')\n"
          ]
        }
      ]
    },
    {
      "cell_type": "code",
      "source": [
        "print(dfpop2['Constituency'].unique())"
      ],
      "metadata": {
        "colab": {
          "base_uri": "https://localhost:8080/"
        },
        "id": "f5kO_K2ZLCqH",
        "outputId": "51bdffa6-971b-44d7-ced8-a13fd7759167"
      },
      "execution_count": 19,
      "outputs": [
        {
          "output_type": "stream",
          "name": "stdout",
          "text": [
            "['DAGORETTI      ' 'EMBAKASI      ' 'KAMUKUNJI     ' 'KASARANI      '\n",
            " 'KIBRA        ' \"LANG'ATA      \" 'MAKADARA      ' 'MATHARE       '\n",
            " 'NJIRU        ' 'STAREHE       ' 'WESTLANDS      ']\n"
          ]
        }
      ]
    },
    {
      "cell_type": "code",
      "source": [
        "print(selected_val['Constituency'].unique())"
      ],
      "metadata": {
        "colab": {
          "base_uri": "https://localhost:8080/"
        },
        "id": "S56NaZJgLdnJ",
        "outputId": "8ae0669c-b1a7-47cb-fb4f-b1fc586c39cc"
      },
      "execution_count": 20,
      "outputs": [
        {
          "output_type": "stream",
          "name": "stdout",
          "text": [
            "['KASARANI' \"LANG'ATA\" 'KIBRA' 'STAREHE' 'WESTLANDS' 'DAGORETTI'\n",
            " 'EMBAKASI' 'KAMUKUNJI' 'MAKADARA']\n"
          ]
        }
      ]
    },
    {
      "cell_type": "code",
      "source": [
        "replacement_mapping = {\n",
        "    'NJIRU': 'KASARANI',\n",
        "    'MATHARE': 'KASARANI'\n",
        "}\n",
        "\n",
        "# Replace multiple values at once using .loc[]\n",
        "dfpop2.loc[dfpop2['Constituency'].isin(replacement_mapping.keys()), 'Constituency'] = dfpop2['Constituency'].replace(replacement_mapping)\n",
        "\n",
        "# Display the unique values in the \"Constituency\" column\n",
        "print(dfpop2['Constituency'].unique())\n",
        "\n"
      ],
      "metadata": {
        "colab": {
          "base_uri": "https://localhost:8080/"
        },
        "id": "GLMerYKVLtTH",
        "outputId": "a71038f3-b87c-4553-d0dc-7fb1c8a549f9"
      },
      "execution_count": 22,
      "outputs": [
        {
          "output_type": "stream",
          "name": "stdout",
          "text": [
            "['DAGORETTI      ' 'EMBAKASI      ' 'KAMUKUNJI     ' 'KASARANI      '\n",
            " 'KIBRA        ' \"LANG'ATA      \" 'MAKADARA      ' 'MATHARE       '\n",
            " 'NJIRU        ' 'STAREHE       ' 'WESTLANDS      ']\n"
          ]
        }
      ]
    },
    {
      "cell_type": "code",
      "source": [
        "# Drop rows where the \"Constituency\" column contains \"MATHARE\" or \"NJIRU\"\n",
        "dfpop2 = dfpop2[~dfpop2['Constituency'].isin(['MATHARE', 'NJIRU'])]\n",
        "\n",
        "# Display the DataFrame after removal\n",
        "print(dfpop2['Constituency'].unique())\n"
      ],
      "metadata": {
        "colab": {
          "base_uri": "https://localhost:8080/"
        },
        "id": "d8RUkK2ANvIy",
        "outputId": "1221620d-6b1c-47ad-da1f-03cd64076846"
      },
      "execution_count": 23,
      "outputs": [
        {
          "output_type": "stream",
          "name": "stdout",
          "text": [
            "['DAGORETTI      ' 'EMBAKASI      ' 'KAMUKUNJI     ' 'KASARANI      '\n",
            " 'KIBRA        ' \"LANG'ATA      \" 'MAKADARA      ' 'MATHARE       '\n",
            " 'NJIRU        ' 'STAREHE       ' 'WESTLANDS      ']\n"
          ]
        }
      ]
    },
    {
      "cell_type": "code",
      "source": [
        "dfpop2['Constituency'] = dfpop2['Constituency'].str.strip()"
      ],
      "metadata": {
        "id": "9rSeBs35OjUQ"
      },
      "execution_count": 24,
      "outputs": []
    },
    {
      "cell_type": "code",
      "source": [
        "replacement_mapping = {\n",
        "    'NJIRU': 'KASARANI',\n",
        "    'MATHARE': 'KASARANI'\n",
        "}\n",
        "\n",
        "# Replace multiple values at once using .loc[]\n",
        "dfpop2.loc[dfpop2['Constituency'].isin(replacement_mapping.keys()), 'Constituency'] = dfpop2['Constituency'].replace(replacement_mapping)\n",
        "\n",
        "# Display the unique values in the \"Constituency\" column\n",
        "print(dfpop2['Constituency'].unique())\n"
      ],
      "metadata": {
        "colab": {
          "base_uri": "https://localhost:8080/"
        },
        "id": "OlZlv8FhOnas",
        "outputId": "f1699ab1-e328-4dae-fbb9-5b682618047d"
      },
      "execution_count": 25,
      "outputs": [
        {
          "output_type": "stream",
          "name": "stdout",
          "text": [
            "['DAGORETTI' 'EMBAKASI' 'KAMUKUNJI' 'KASARANI' 'KIBRA' \"LANG'ATA\"\n",
            " 'MAKADARA' 'STAREHE' 'WESTLANDS']\n"
          ]
        }
      ]
    },
    {
      "cell_type": "code",
      "source": [
        "#merge the two datasets to compare data\n",
        "merged_df = pd.merge(dfpop2, selected_val, on='Constituency')"
      ],
      "metadata": {
        "id": "Gcvm0tByPIFb"
      },
      "execution_count": 26,
      "outputs": []
    },
    {
      "cell_type": "code",
      "source": [
        "print(merged_df.tail(12))"
      ],
      "metadata": {
        "id": "fPh7Er23PSzo",
        "outputId": "5d9db50e-8c73-4f5e-8029-52b00c17f83b",
        "colab": {
          "base_uri": "https://localhost:8080/"
        }
      },
      "execution_count": 27,
      "outputs": [
        {
          "output_type": "stream",
          "name": "stdout",
          "text": [
            "     Constituency  Female   Total            Type  \\\n",
            "1346    WESTLANDS  155021  308854  Medical Clinic   \n",
            "1347    WESTLANDS  155021  308854  Medical Clinic   \n",
            "1348    WESTLANDS  155021  308854  Medical Clinic   \n",
            "1349    WESTLANDS  155021  308854   Health Centre   \n",
            "1350    WESTLANDS  155021  308854  Medical Clinic   \n",
            "1351    WESTLANDS  155021  308854      Dispensary   \n",
            "1352    WESTLANDS  155021  308854      Dispensary   \n",
            "1353    WESTLANDS  155021  308854  Medical Clinic   \n",
            "1354    WESTLANDS  155021  308854  Medical Clinic   \n",
            "1355    WESTLANDS  155021  308854  Medical Clinic   \n",
            "1356    WESTLANDS  155021  308854   Health Centre   \n",
            "1357    WESTLANDS  155021  308854  Medical Clinic   \n",
            "\n",
            "                                                Owner  Beds Operational Status  \n",
            "1346                   Private Practice - Unspecified   0.0        Operational  \n",
            "1347                   Non-Governmental Organizations   0.0    Pending Opening  \n",
            "1348                 Private Enterprise (Institution)   3.0        Operational  \n",
            "1349  Kenya Episcopal Conference-Catholic Secretariat  11.0        Operational  \n",
            "1350                 Private Enterprise (Institution)  12.0        Operational  \n",
            "1351  Kenya Episcopal Conference-Catholic Secretariat   0.0        Operational  \n",
            "1352                 Private Enterprise (Institution)   6.0        Operational  \n",
            "1353          Private Practice - General Practitioner   0.0        Operational  \n",
            "1354            Private Practice - Medical Specialist   0.0        Operational  \n",
            "1355                               Ministry of Health   0.0        Operational  \n",
            "1356                                  Local Authority  20.0        Operational  \n",
            "1357                   Non-Governmental Organizations   2.0        Operational  \n"
          ]
        }
      ]
    },
    {
      "cell_type": "code",
      "source": [
        "#find only hospitals that are currently operational\n",
        "merged_df = merged_df[merged_df['Operational Status'] == 'Operational']\n",
        "print(merged_df.head())"
      ],
      "metadata": {
        "id": "VP-NWpu8TAW1",
        "outputId": "81cfa5ee-9b2c-47b5-a7d4-e40129d4ea48",
        "colab": {
          "base_uri": "https://localhost:8080/"
        }
      },
      "execution_count": 28,
      "outputs": [
        {
          "output_type": "stream",
          "name": "stdout",
          "text": [
            "  Constituency  Female   Total                      Type  \\\n",
            "0    DAGORETTI  216526  434208             Health Centre   \n",
            "1    DAGORETTI  216526  434208             Health Centre   \n",
            "2    DAGORETTI  216526  434208  VCT Centre (Stand-Alone)   \n",
            "3    DAGORETTI  216526  434208             Health Centre   \n",
            "4    DAGORETTI  216526  434208                Dispensary   \n",
            "\n",
            "                                   Owner  Beds Operational Status  \n",
            "0       Private Enterprise (Institution)   0.0        Operational  \n",
            "1  Private Practice - Medical Specialist  10.0        Operational  \n",
            "2         Non-Governmental Organizations   0.0        Operational  \n",
            "3       Private Enterprise (Institution)   7.0        Operational  \n",
            "4                        Local Authority   0.0        Operational  \n"
          ]
        }
      ]
    },
    {
      "cell_type": "code",
      "source": [
        "#dataframe to show the total number of facilities per constituency\n",
        "#import re\n",
        "#merged_df['facility_count'] = merged_df.groupby(['Constituency', 'Total', 'Female', 'Beds', 'Type'])['Operational Status'].transform('count')\n",
        "total_facilities = merged_df['Type'].value_counts()\n",
        "#Total facilities in Nairobi\n",
        "print(total_facilities.sum())\n",
        "\n"
      ],
      "metadata": {
        "id": "SjrgQvs3TKbJ",
        "outputId": "50b92ec4-122f-449c-d8f3-ca2037e97d2e",
        "colab": {
          "base_uri": "https://localhost:8080/"
        }
      },
      "execution_count": 31,
      "outputs": [
        {
          "output_type": "stream",
          "name": "stdout",
          "text": [
            "1317\n"
          ]
        }
      ]
    },
    {
      "cell_type": "code",
      "source": [
        "import matplotlib.pyplot as plt\n",
        "\n",
        "#import matplotlib.pyplot as plt\n",
        "\n",
        "# Assuming df is your DataFrame containing the data\n",
        "constituencies = merged_df['Constituency']\n",
        "total_population = merged_df['Total']\n",
        "\n",
        "# Plotting\n",
        "plt.figure(figsize=(10, 6))\n",
        "plt.bar(constituencies, total_population, color='skyblue')\n",
        "\n",
        "# Adding labels and title\n",
        "plt.xlabel('Constituency')\n",
        "plt.ylabel('Total Population')\n",
        "plt.title('Total Population per Constituency')\n",
        "\n",
        "# Rotate x-axis labels for better readability if needed\n",
        "plt.xticks(rotation=45, ha='right')\n",
        "\n",
        "# intervals of values in y-axis\n",
        "plt.yticks([0, 200000, 400000, 600000, 800000, 1000000], [0, 200000, 400000, 600000, 800000, 1000000])\n",
        "\n",
        "# Show plot\n",
        "plt.tight_layout()\n",
        "plt.show()\n",
        "\n"
      ],
      "metadata": {
        "id": "xTO3gR3YX6Z7",
        "outputId": "35d8d870-15d6-4570-be76-a51ebc03c74e",
        "colab": {
          "base_uri": "https://localhost:8080/",
          "height": 529
        }
      },
      "execution_count": 43,
      "outputs": [
        {
          "output_type": "display_data",
          "data": {
            "text/plain": [
              "<Figure size 1000x600 with 1 Axes>"
            ],
            "image/png": "[encoded data removed]"
          },
          "metadata": {}
        }
      ]
    },
    {
      "cell_type": "code",
      "source": [
        "import matplotlib.pyplot as plt\n",
        "\n",
        "# Assuming df is your DataFrame containing the data\n",
        "#population_per_constituency = merged_df.groupby('Constituency')['Total'].sum()\n",
        "total_facilities_per_constituency = merged_df.groupby('Constituency')['Type'].count()\n",
        "print(total_facilities_per_constituency)\n",
        "\n",
        "plt.figure(figsize=(10, 6))\n",
        "total_facilities_per_constituency.plot(kind='bar', color='skyblue')\n",
        "\n",
        "# Adding labels and title\n",
        "plt.xlabel('Constituency')\n",
        "plt.ylabel('Number of Facilities')\n",
        "plt.title('Total Facilities per Constituency')\n",
        "\n",
        "# Rotate x-axis labels for better readability if needed\n",
        "plt.xticks(rotation=45, ha='right')\n",
        "\n",
        "# Show plot\n",
        "plt.tight_layout()\n",
        "plt.show()\n",
        "\n",
        "\n",
        "\n",
        "\n"
      ],
      "metadata": {
        "id": "7Dc0x7PsZq9G",
        "outputId": "02203876-d3d4-4b3e-93ac-380a2087e033",
        "colab": {
          "base_uri": "https://localhost:8080/",
          "height": 720
        }
      },
      "execution_count": 53,
      "outputs": [
        {
          "output_type": "stream",
          "name": "stdout",
          "text": [
            "Constituency\n",
            "DAGORETTI    105\n",
            "EMBAKASI     145\n",
            "KAMUKUNJI     59\n",
            "KASARANI     600\n",
            "KIBRA         81\n",
            "LANG'ATA      68\n",
            "MAKADARA      51\n",
            "STAREHE      137\n",
            "WESTLANDS     71\n",
            "Name: Type, dtype: int64\n"
          ]
        },
        {
          "output_type": "display_data",
          "data": {
            "text/plain": [
              "<Figure size 1000x600 with 1 Axes>"
            ],
            "image/png": "[encoded data removed]"
          },
          "metadata": {}
        }
      ]
    },
    {
      "cell_type": "code",
      "source": [],
      "metadata": {
        "id": "5Wz2Y9xBaLF4"
      },
      "execution_count": null,
      "outputs": []
    }
  ]
}